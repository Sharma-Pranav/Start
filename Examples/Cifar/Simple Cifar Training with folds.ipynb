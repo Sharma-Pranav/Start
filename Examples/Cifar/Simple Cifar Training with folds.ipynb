{
 "cells": [
  {
   "cell_type": "code",
   "execution_count": 1,
   "id": "5f78855b",
   "metadata": {},
   "outputs": [],
   "source": [
    "import numpy as np\n",
    "import torch\n",
    "import torch.optim as optim\n",
    "import pickle\n",
    "import pandas as pd\n",
    "import sys\n",
    "import copy\n",
    "\n",
    "sys.path.append(\"..\\\\..\\\\src\")\n",
    "\n",
    "from datasets import CV2ImageDataset, dataset_loader\n",
    "from cifar_model import Net\n",
    "from model_class import NeuralNet\n",
    "from run_phase import run_phase\n",
    "import albumentations as A\n",
    "from albumentations.pytorch import ToTensorV2\n",
    "from sklearn.model_selection import StratifiedKFold\n",
    "device = torch.device(\"cuda:0\" if torch.cuda.is_available() else \"cpu\")\n"
   ]
  },
  {
   "cell_type": "code",
   "execution_count": 3,
   "id": "7e34dc5a",
   "metadata": {},
   "outputs": [
    {
     "name": "stdout",
     "output_type": "stream",
     "text": [
      "Current Fold 0 and Epoch 0: \n"
     ]
    },
    {
     "name": "stderr",
     "output_type": "stream",
     "text": [
      "Train: 100%|███████████████████████████████████████████████████████████████████| 391/391 [00:15<00:00, 25.74it/s]\n"
     ]
    },
    {
     "name": "stdout",
     "output_type": "stream",
     "text": [
      "Train Accuracy for epoch : 0.12476\n",
      "Train Loss for epoch : 0.03597745267868042\n"
     ]
    },
    {
     "name": "stderr",
     "output_type": "stream",
     "text": [
      "Test: 100%|████████████████████████████████████████████████████████████████████| 391/391 [00:13<00:00, 28.35it/s]\n"
     ]
    },
    {
     "name": "stdout",
     "output_type": "stream",
     "text": [
      "Test Accuracy for epoch : 0.14832\n",
      "Test Loss for epoch : 0.035843337697982786\n"
     ]
    },
    {
     "name": "stderr",
     "output_type": "stream",
     "text": [
      "Validation: 100%|██████████████████████████████████████████████████████████████| 157/157 [00:07<00:00, 20.00it/s]\n"
     ]
    },
    {
     "name": "stdout",
     "output_type": "stream",
     "text": [
      "Validation Accuracy for epoch : 0.1452\n",
      "Validation Loss for epoch : 0.0359808274269104\n",
      "Current Fold 0 and Epoch 1: \n"
     ]
    },
    {
     "name": "stderr",
     "output_type": "stream",
     "text": [
      "Train: 100%|███████████████████████████████████████████████████████████████████| 391/391 [00:13<00:00, 29.32it/s]\n"
     ]
    },
    {
     "name": "stdout",
     "output_type": "stream",
     "text": [
      "Train Accuracy for epoch : 0.1765319217196022\n",
      "Train Loss for epoch : 0.03476908751355558\n"
     ]
    },
    {
     "name": "stderr",
     "output_type": "stream",
     "text": [
      "Test: 100%|████████████████████████████████████████████████████████████████████| 391/391 [00:15<00:00, 25.81it/s]\n"
     ]
    },
    {
     "name": "stdout",
     "output_type": "stream",
     "text": [
      "Test Accuracy for epoch : 0.24390439525184474\n",
      "Test Loss for epoch : 0.03248719846184987\n"
     ]
    },
    {
     "name": "stderr",
     "output_type": "stream",
     "text": [
      "Validation: 100%|██████████████████████████████████████████████████████████████| 157/157 [00:08<00:00, 18.68it/s]\n"
     ]
    },
    {
     "name": "stdout",
     "output_type": "stream",
     "text": [
      "Validation Accuracy for epoch : 0.25010064412238325\n",
      "Validation Loss for epoch : 0.03256629137457281\n",
      "Current Fold 0 and Epoch 2: \n"
     ]
    },
    {
     "name": "stderr",
     "output_type": "stream",
     "text": [
      "Train: 100%|███████████████████████████████████████████████████████████████████| 391/391 [00:13<00:00, 28.44it/s]\n"
     ]
    },
    {
     "name": "stdout",
     "output_type": "stream",
     "text": [
      "Train Accuracy for epoch : 0.27422200834135385\n",
      "Train Loss for epoch : 0.030996357377309006\n"
     ]
    },
    {
     "name": "stderr",
     "output_type": "stream",
     "text": [
      "Test: 100%|████████████████████████████████████████████████████████████████████| 391/391 [00:13<00:00, 28.24it/s]\n"
     ]
    },
    {
     "name": "stdout",
     "output_type": "stream",
     "text": [
      "Test Accuracy for epoch : 0.31011389156239977\n",
      "Test Loss for epoch : 0.029631766603281377\n"
     ]
    },
    {
     "name": "stderr",
     "output_type": "stream",
     "text": [
      "Validation: 100%|██████████████████████████████████████████████████████████████| 157/157 [00:07<00:00, 19.70it/s]\n"
     ]
    },
    {
     "name": "stdout",
     "output_type": "stream",
     "text": [
      "Validation Accuracy for epoch : 0.31199677938808373\n",
      "Validation Loss for epoch : 0.029697306358199956\n",
      "Current Fold 0 and Epoch 3: \n"
     ]
    },
    {
     "name": "stderr",
     "output_type": "stream",
     "text": [
      "Train: 100%|███████████████████████████████████████████████████████████████████| 391/391 [00:14<00:00, 26.79it/s]\n"
     ]
    },
    {
     "name": "stdout",
     "output_type": "stream",
     "text": [
      "Train Accuracy for epoch : 0.33561918511389155\n",
      "Train Loss for epoch : 0.028718269608477426\n"
     ]
    },
    {
     "name": "stderr",
     "output_type": "stream",
     "text": [
      "Test: 100%|████████████████████████████████████████████████████████████████████| 391/391 [00:14<00:00, 26.39it/s]\n"
     ]
    },
    {
     "name": "stdout",
     "output_type": "stream",
     "text": [
      "Test Accuracy for epoch : 0.3683830606352262\n",
      "Test Loss for epoch : 0.027451809539908126\n"
     ]
    },
    {
     "name": "stderr",
     "output_type": "stream",
     "text": [
      "Validation: 100%|██████████████████████████████████████████████████████████████| 157/157 [00:08<00:00, 18.70it/s]\n"
     ]
    },
    {
     "name": "stdout",
     "output_type": "stream",
     "text": [
      "Validation Accuracy for epoch : 0.3698671497584541\n",
      "Validation Loss for epoch : 0.02751926458688174\n",
      "Current Fold 0 and Epoch 4: \n"
     ]
    },
    {
     "name": "stderr",
     "output_type": "stream",
     "text": [
      "Train: 100%|███████████████████████████████████████████████████████████████████| 391/391 [00:14<00:00, 27.11it/s]\n"
     ]
    },
    {
     "name": "stdout",
     "output_type": "stream",
     "text": [
      "Train Accuracy for epoch : 0.37455887070901506\n",
      "Train Loss for epoch : 0.026954610855639802\n"
     ]
    },
    {
     "name": "stderr",
     "output_type": "stream",
     "text": [
      "Test: 100%|████████████████████████████████████████████████████████████████████| 391/391 [00:14<00:00, 26.98it/s]\n"
     ]
    },
    {
     "name": "stdout",
     "output_type": "stream",
     "text": [
      "Test Accuracy for epoch : 0.38542669233237087\n",
      "Test Loss for epoch : 0.026220375838706535\n"
     ]
    },
    {
     "name": "stderr",
     "output_type": "stream",
     "text": [
      "Validation: 100%|██████████████████████████████████████████████████████████████| 157/157 [00:08<00:00, 17.67it/s]\n"
     ]
    },
    {
     "name": "stdout",
     "output_type": "stream",
     "text": [
      "Validation Accuracy for epoch : 0.39049919484702095\n",
      "Validation Loss for epoch : 0.026237906741155326\n",
      "Current Fold 1 and Epoch 0: \n"
     ]
    },
    {
     "name": "stderr",
     "output_type": "stream",
     "text": [
      "Train: 100%|███████████████████████████████████████████████████████████████████| 391/391 [00:15<00:00, 25.89it/s]\n"
     ]
    },
    {
     "name": "stdout",
     "output_type": "stream",
     "text": [
      "Train Accuracy for epoch : 0.1176\n",
      "Train Loss for epoch : 0.035794912481307985\n"
     ]
    },
    {
     "name": "stderr",
     "output_type": "stream",
     "text": [
      "Test: 100%|████████████████████████████████████████████████████████████████████| 391/391 [00:15<00:00, 26.01it/s]\n"
     ]
    },
    {
     "name": "stdout",
     "output_type": "stream",
     "text": [
      "Test Accuracy for epoch : 0.1424\n",
      "Test Loss for epoch : 0.0351770959854126\n"
     ]
    },
    {
     "name": "stderr",
     "output_type": "stream",
     "text": [
      "Validation: 100%|██████████████████████████████████████████████████████████████| 157/157 [00:08<00:00, 18.73it/s]\n"
     ]
    },
    {
     "name": "stdout",
     "output_type": "stream",
     "text": [
      "Validation Accuracy for epoch : 0.1405\n",
      "Validation Loss for epoch : 0.03527008845806122\n",
      "Current Fold 1 and Epoch 1: \n"
     ]
    },
    {
     "name": "stderr",
     "output_type": "stream",
     "text": [
      "Train: 100%|███████████████████████████████████████████████████████████████████| 391/391 [00:14<00:00, 26.64it/s]\n"
     ]
    },
    {
     "name": "stdout",
     "output_type": "stream",
     "text": [
      "Train Accuracy for epoch : 0.22152710940006418\n",
      "Train Loss for epoch : 0.033735850065191246\n"
     ]
    },
    {
     "name": "stderr",
     "output_type": "stream",
     "text": [
      "Test: 100%|████████████████████████████████████████████████████████████████████| 391/391 [00:14<00:00, 26.42it/s]\n"
     ]
    },
    {
     "name": "stdout",
     "output_type": "stream",
     "text": [
      "Test Accuracy for epoch : 0.2522056464549246\n",
      "Test Loss for epoch : 0.03207749380279819\n"
     ]
    },
    {
     "name": "stderr",
     "output_type": "stream",
     "text": [
      "Validation: 100%|██████████████████████████████████████████████████████████████| 157/157 [00:08<00:00, 17.46it/s]\n"
     ]
    },
    {
     "name": "stdout",
     "output_type": "stream",
     "text": [
      "Validation Accuracy for epoch : 0.25754830917874394\n",
      "Validation Loss for epoch : 0.03202401714672405\n",
      "Current Fold 1 and Epoch 2: \n"
     ]
    },
    {
     "name": "stderr",
     "output_type": "stream",
     "text": [
      "Train: 100%|███████████████████████████████████████████████████████████████████| 391/391 [00:15<00:00, 24.76it/s]\n"
     ]
    },
    {
     "name": "stdout",
     "output_type": "stream",
     "text": [
      "Train Accuracy for epoch : 0.2735803657362849\n",
      "Train Loss for epoch : 0.031199433002710573\n"
     ]
    },
    {
     "name": "stderr",
     "output_type": "stream",
     "text": [
      "Test: 100%|████████████████████████████████████████████████████████████████████| 391/391 [00:14<00:00, 26.49it/s]\n"
     ]
    },
    {
     "name": "stdout",
     "output_type": "stream",
     "text": [
      "Test Accuracy for epoch : 0.2932707731793391\n",
      "Test Loss for epoch : 0.03037609210620907\n"
     ]
    },
    {
     "name": "stderr",
     "output_type": "stream",
     "text": [
      "Validation: 100%|██████████████████████████████████████████████████████████████| 157/157 [00:08<00:00, 18.63it/s]\n"
     ]
    },
    {
     "name": "stdout",
     "output_type": "stream",
     "text": [
      "Validation Accuracy for epoch : 0.3035426731078905\n",
      "Validation Loss for epoch : 0.030286079119656972\n",
      "Current Fold 1 and Epoch 3: \n"
     ]
    },
    {
     "name": "stderr",
     "output_type": "stream",
     "text": [
      "Train: 100%|███████████████████████████████████████████████████████████████████| 391/391 [00:14<00:00, 27.33it/s]\n"
     ]
    },
    {
     "name": "stdout",
     "output_type": "stream",
     "text": [
      "Train Accuracy for epoch : 0.3190968880333654\n",
      "Train Loss for epoch : 0.029326382817692738\n"
     ]
    },
    {
     "name": "stderr",
     "output_type": "stream",
     "text": [
      "Test: 100%|████████████████████████████████████████████████████████████████████| 391/391 [00:15<00:00, 25.88it/s]\n"
     ]
    },
    {
     "name": "stdout",
     "output_type": "stream",
     "text": [
      "Test Accuracy for epoch : 0.345283926852743\n",
      "Test Loss for epoch : 0.028418784541008293\n"
     ]
    },
    {
     "name": "stderr",
     "output_type": "stream",
     "text": [
      "Validation: 100%|██████████████████████████████████████████████████████████████| 157/157 [00:09<00:00, 16.36it/s]\n"
     ]
    },
    {
     "name": "stdout",
     "output_type": "stream",
     "text": [
      "Validation Accuracy for epoch : 0.34993961352657005\n",
      "Validation Loss for epoch : 0.028259372041709183\n",
      "Current Fold 1 and Epoch 4: \n"
     ]
    },
    {
     "name": "stderr",
     "output_type": "stream",
     "text": [
      "Train: 100%|███████████████████████████████████████████████████████████████████| 391/391 [00:15<00:00, 24.47it/s]\n"
     ]
    },
    {
     "name": "stdout",
     "output_type": "stream",
     "text": [
      "Train Accuracy for epoch : 0.3685434712864934\n",
      "Train Loss for epoch : 0.027288519924062546\n"
     ]
    },
    {
     "name": "stderr",
     "output_type": "stream",
     "text": [
      "Test: 100%|████████████████████████████████████████████████████████████████████| 391/391 [00:16<00:00, 23.50it/s]\n"
     ]
    },
    {
     "name": "stdout",
     "output_type": "stream",
     "text": [
      "Test Accuracy for epoch : 0.38494546037856914\n",
      "Test Loss for epoch : 0.026681615281724608\n"
     ]
    },
    {
     "name": "stderr",
     "output_type": "stream",
     "text": [
      "Validation: 100%|██████████████████████████████████████████████████████████████| 157/157 [00:08<00:00, 18.05it/s]"
     ]
    },
    {
     "name": "stdout",
     "output_type": "stream",
     "text": [
      "Validation Accuracy for epoch : 0.39311594202898553\n",
      "Validation Loss for epoch : 0.026478697472340437\n"
     ]
    },
    {
     "name": "stderr",
     "output_type": "stream",
     "text": [
      "\n"
     ]
    }
   ],
   "source": [
    "if __name__ == '__main__':    \n",
    "    epochs = 5\n",
    "    n_splits=2   \n",
    "    image_height = 32\n",
    "    image_width = 32\n",
    "    batch_size = 64\n",
    "    aug = A.Compose([   \n",
    "    A.HorizontalFlip(p=0.5),          \n",
    "    A.Normalize(),            \n",
    "    ToTensorV2()])\n",
    "\n",
    "    df = pd.read_csv('data\\\\train.csv')\n",
    "    val_df = pd.read_csv('data\\\\test.csv')\n",
    "    # Split into folds\n",
    "\n",
    "    df[\"fold\"] = np.nan\n",
    "    skf = StratifiedKFold(n_splits=n_splits)\n",
    "    skf.get_n_splits(df, df.label)\n",
    "    for fold, (train_index, test_index) in enumerate(skf.split(df, df.label)):\n",
    "        df.loc[test_index,\"fold\"]  = int(fold)\n",
    "\n",
    "    early_stopping_length = 10\n",
    "    best_model_per_fold = {}\n",
    "    value_list = list(df.fold.unique())\n",
    "    for fold in value_list:\n",
    "        test_df =df.loc[df['fold'] == fold]\n",
    "        train_df =df.loc[df['fold'] != fold]\n",
    "        \n",
    "        train_ds = CV2ImageDataset(train_df, transform=aug, device = device)\n",
    "        test_ds = CV2ImageDataset(test_df, transform=aug, device = device)\n",
    "        val_ds = CV2ImageDataset(val_df, transform=aug, device = device)\n",
    "        \n",
    "        train_ds_l = dataset_loader(train_ds, batch_size = batch_size)\n",
    "        test_ds_l = dataset_loader(test_ds, batch_size = batch_size)\n",
    "        val_ds_l = dataset_loader(val_ds, batch_size = batch_size)\n",
    "\n",
    "        trainloader = train_ds_l.get_dataloader()\n",
    "        testloader = test_ds_l.get_dataloader()\n",
    "        valloader = val_ds_l.get_dataloader() \n",
    "        \n",
    "        net = Net()\n",
    "        nn_model = NeuralNet(net)\n",
    "        model = nn_model.get_model()\n",
    "        model.to(device)\n",
    "        \n",
    "        optimizer = optim.SGD(net.parameters(), lr=0.001, momentum=0.9)\n",
    "        \n",
    "        train_phase = run_phase(trainloader,  model,'Train', device, loss = torch.nn.CrossEntropyLoss(), optimizer= optimizer)\n",
    "        \n",
    "        test_phase = run_phase(testloader,  model, 'Test', device, loss = torch.nn.CrossEntropyLoss( ))\n",
    "        val_phase = run_phase(valloader,  model,'Validation', device, loss = torch.nn.CrossEntropyLoss( ))\n",
    "        \n",
    "        for epoch in range(epochs):\n",
    "            print('Current Fold {} and Epoch {}: '.format(int(fold), epoch))\n",
    "            train_accuracy_meter, train_loss_meter = train_phase.run()\n",
    "            test_accuracy_meter, test_loss_meter = test_phase.run()\n",
    "            val_accuracy_meter, val_loss_meter =  val_phase.run()\n",
    "            \n",
    "            continue_training = val_accuracy_meter.check_min_value_in_last_elements_of_queue(early_stopping_length)\n",
    "            save_model_in_fold_flag = val_accuracy_meter.update_fold_on_min_flag()\n",
    "            if save_model_in_fold_flag:\n",
    "                best_model_per_fold[fold] = copy.deepcopy(nn_model)\n",
    "\n",
    "            if not continue_training:\n",
    "               \n",
    "               break \n",
    "\n",
    "    with open('saved_cifar_model_dictionary.pkl', 'wb') as f:\n",
    "        pickle.dump(best_model_per_fold, f)"
   ]
  },
  {
   "cell_type": "code",
   "execution_count": null,
   "id": "67c6c9ed",
   "metadata": {},
   "outputs": [],
   "source": []
  }
 ],
 "metadata": {
  "kernelspec": {
   "display_name": "Python 3 (ipykernel)",
   "language": "python",
   "name": "python3"
  },
  "language_info": {
   "codemirror_mode": {
    "name": "ipython",
    "version": 3
   },
   "file_extension": ".py",
   "mimetype": "text/x-python",
   "name": "python",
   "nbconvert_exporter": "python",
   "pygments_lexer": "ipython3",
   "version": "3.9.12"
  }
 },
 "nbformat": 4,
 "nbformat_minor": 5
}
