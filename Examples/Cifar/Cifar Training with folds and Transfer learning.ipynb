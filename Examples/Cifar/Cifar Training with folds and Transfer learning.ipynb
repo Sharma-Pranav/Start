{
 "cells": [
  {
   "cell_type": "code",
   "execution_count": 1,
   "id": "5f78855b",
   "metadata": {},
   "outputs": [],
   "source": [
    "import numpy as np\n",
    "import torch\n",
    "import torch.optim as optim\n",
    "import pickle\n",
    "import pandas as pd\n",
    "import sys\n",
    "import copy\n",
    "\n",
    "sys.path.append(\"..\\\\..\\\\src\")\n",
    "\n",
    "from datasets import CV2ImageDataset, dataset_loader\n",
    "from tf_model import Net\n",
    "from model_class import NeuralNet\n",
    "from run_phase import run_phase\n",
    "import albumentations as A\n",
    "from albumentations.pytorch import ToTensorV2\n",
    "from sklearn.model_selection import StratifiedKFold\n",
    "device = torch.device(\"cuda:0\" if torch.cuda.is_available() else \"cpu\")\n"
   ]
  },
  {
   "cell_type": "code",
   "execution_count": 4,
   "id": "7e34dc5a",
   "metadata": {},
   "outputs": [
    {
     "name": "stdout",
     "output_type": "stream",
     "text": [
      "Current Fold 0 and Epoch 0: \n"
     ]
    },
    {
     "name": "stderr",
     "output_type": "stream",
     "text": [
      "Train: 100%|█████████████████████████████████████████████████████████████████████████| 391/391 [02:46<00:00,  2.35it/s]\n"
     ]
    },
    {
     "name": "stdout",
     "output_type": "stream",
     "text": [
      "Train Accuracy for epoch : 0.1576\n",
      "Train Loss for epoch : 0.03533459845542908\n"
     ]
    },
    {
     "name": "stderr",
     "output_type": "stream",
     "text": [
      "Test: 100%|██████████████████████████████████████████████████████████████████████████| 391/391 [00:41<00:00,  9.43it/s]\n"
     ]
    },
    {
     "name": "stdout",
     "output_type": "stream",
     "text": [
      "Test Accuracy for epoch : 0.22908\n",
      "Test Loss for epoch : 0.033228996300697325\n"
     ]
    },
    {
     "name": "stderr",
     "output_type": "stream",
     "text": [
      "Validation: 100%|████████████████████████████████████████████████████████████████████| 157/157 [00:20<00:00,  7.58it/s]\n"
     ]
    },
    {
     "name": "stdout",
     "output_type": "stream",
     "text": [
      "Validation Accuracy for epoch : 0.2225\n",
      "Validation Loss for epoch : 0.03334444085359573\n",
      "saving model weights for fold 0.0\n",
      "Current Fold 1 and Epoch 0: \n"
     ]
    },
    {
     "name": "stderr",
     "output_type": "stream",
     "text": [
      "Train: 100%|█████████████████████████████████████████████████████████████████████████| 391/391 [02:48<00:00,  2.32it/s]\n"
     ]
    },
    {
     "name": "stdout",
     "output_type": "stream",
     "text": [
      "Train Accuracy for epoch : 0.15036\n",
      "Train Loss for epoch : 0.035386559791564944\n"
     ]
    },
    {
     "name": "stderr",
     "output_type": "stream",
     "text": [
      "Test: 100%|██████████████████████████████████████████████████████████████████████████| 391/391 [00:42<00:00,  9.26it/s]\n"
     ]
    },
    {
     "name": "stdout",
     "output_type": "stream",
     "text": [
      "Test Accuracy for epoch : 0.21176\n",
      "Test Loss for epoch : 0.033469370851516723\n"
     ]
    },
    {
     "name": "stderr",
     "output_type": "stream",
     "text": [
      "Validation: 100%|████████████████████████████████████████████████████████████████████| 157/157 [00:18<00:00,  8.45it/s]\n"
     ]
    },
    {
     "name": "stdout",
     "output_type": "stream",
     "text": [
      "Validation Accuracy for epoch : 0.2151\n",
      "Validation Loss for epoch : 0.033444849228858944\n",
      "saving model weights for fold 1.0\n"
     ]
    },
    {
     "name": "stderr",
     "output_type": "stream",
     "text": [
      "IOPub data rate exceeded.\n",
      "The notebook server will temporarily stop sending output\n",
      "to the client in order to avoid crashing it.\n",
      "To change this limit, set the config variable\n",
      "`--NotebookApp.iopub_data_rate_limit`.\n",
      "\n",
      "Current values:\n",
      "NotebookApp.iopub_data_rate_limit=1000000.0 (bytes/sec)\n",
      "NotebookApp.rate_limit_window=3.0 (secs)\n",
      "\n"
     ]
    }
   ],
   "source": [
    "if __name__ == '__main__':    \n",
    "    epochs = 1\n",
    "    n_splits=2   \n",
    "    image_height = 32\n",
    "    image_width = 32\n",
    "    batch_size = 64\n",
    "    aug = A.Compose([   \n",
    "    A.HorizontalFlip(p=0.5),          \n",
    "    A.Normalize(),            \n",
    "    ToTensorV2()])\n",
    "\n",
    "    df = pd.read_csv('data\\\\train.csv')\n",
    "    val_df = pd.read_csv('data\\\\test.csv')\n",
    "    # Split into folds\n",
    "\n",
    "    df[\"fold\"] = np.nan\n",
    "    skf = StratifiedKFold(n_splits=n_splits)\n",
    "    skf.get_n_splits(df, df.label)\n",
    "    for fold, (train_index, test_index) in enumerate(skf.split(df, df.label)):\n",
    "        df.loc[test_index,\"fold\"]  = int(fold)\n",
    "\n",
    "    early_stopping_length = 10\n",
    "    best_model_weights_per_fold = {}\n",
    "    value_list = list(df.fold.unique())\n",
    "    for fold in value_list:\n",
    "        test_df =df.loc[df['fold'] == fold]\n",
    "        train_df =df.loc[df['fold'] != fold]\n",
    "        \n",
    "        train_ds = CV2ImageDataset(train_df, transform=aug, device = device)\n",
    "        test_ds = CV2ImageDataset(test_df, transform=aug, device = device)\n",
    "        val_ds = CV2ImageDataset(val_df, transform=aug, device = device)\n",
    "        \n",
    "        train_ds_l = dataset_loader(train_ds, batch_size = batch_size)\n",
    "        test_ds_l = dataset_loader(test_ds, batch_size = batch_size)\n",
    "        val_ds_l = dataset_loader(val_ds, batch_size = batch_size)\n",
    "\n",
    "        trainloader = train_ds_l.get_dataloader()\n",
    "        testloader = test_ds_l.get_dataloader()\n",
    "        valloader = val_ds_l.get_dataloader() \n",
    "        \n",
    "        net = Net()\n",
    "        nn_model = NeuralNet(net)\n",
    "        model = nn_model.get_model()\n",
    "        model.to(device)\n",
    "        \n",
    "        optimizer = optim.SGD(net.parameters(), lr=0.001, momentum=0.9)\n",
    "        \n",
    "        train_phase = run_phase(trainloader,  model,'Train', device, loss = torch.nn.CrossEntropyLoss(), optimizer= optimizer)\n",
    "        \n",
    "        test_phase = run_phase(testloader,  model, 'Test', device, loss = torch.nn.CrossEntropyLoss( ))\n",
    "        val_phase = run_phase(valloader,  model,'Validation', device, loss = torch.nn.CrossEntropyLoss( ))\n",
    "        \n",
    "        for epoch in range(epochs):\n",
    "            print('Current Fold {} and Epoch {}: '.format(int(fold), epoch))\n",
    "            train_accuracy_meter, train_loss_meter = train_phase.run()\n",
    "            test_accuracy_meter, test_loss_meter = test_phase.run()\n",
    "            val_accuracy_meter, val_loss_meter =  val_phase.run()\n",
    "            \n",
    "            continue_training = val_accuracy_meter.check_min_value_in_last_elements_of_queue(early_stopping_length)\n",
    "            save_model_in_fold_flag = val_accuracy_meter.update_fold_on_min_flag()\n",
    "            if save_model_in_fold_flag:\n",
    "                best_model_weights_per_fold[fold] = nn_model.model.state_dict()# copy.deepcopy(nn_model)\n",
    "                print('saving model weights for fold {}'.format(fold))\n",
    "\n",
    "            if not continue_training:\n",
    "               \n",
    "               break \n",
    "\n",
    "    with open('saved_cifar_model_weights_dictionary_with_tl.pkl', 'wb') as f:\n",
    "        pickle.dump(best_model_weights_per_fold, f)\n",
    "        \n",
    "    with open('saved_cifar_model_weights_dictionary_with_tl.pkl', 'rb') as fp:\n",
    "        model_weight_dict = pickle.load(fp)\n",
    "        \n",
    "    print(model_weight_dict)"
   ]
  },
  {
   "cell_type": "code",
   "execution_count": null,
   "id": "67c6c9ed",
   "metadata": {},
   "outputs": [],
   "source": []
  }
 ],
 "metadata": {
  "kernelspec": {
   "display_name": "Python 3 (ipykernel)",
   "language": "python",
   "name": "python3"
  },
  "language_info": {
   "codemirror_mode": {
    "name": "ipython",
    "version": 3
   },
   "file_extension": ".py",
   "mimetype": "text/x-python",
   "name": "python",
   "nbconvert_exporter": "python",
   "pygments_lexer": "ipython3",
   "version": "3.9.12"
  }
 },
 "nbformat": 4,
 "nbformat_minor": 5
}
