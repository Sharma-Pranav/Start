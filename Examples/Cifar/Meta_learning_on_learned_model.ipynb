{
 "cells": [
  {
   "cell_type": "code",
   "execution_count": 1,
   "id": "5f78855b",
   "metadata": {},
   "outputs": [],
   "source": [
    "import numpy as np\n",
    "import torch\n",
    "import torch.optim as optim\n",
    "import pickle\n",
    "import pandas as pd\n",
    "import sys\n",
    "import copy\n",
    "\n",
    "sys.path.append(\"..\\\\..\\\\src\")\n",
    "\n",
    "from datasets import CV2ImageDataset, dataset_loader\n",
    "from tf_model import Net\n",
    "#from cifar_model import Net\n",
    "from tqdm import tqdm\n",
    "from model_class import NeuralNet\n",
    "from run_phase import run_phase\n",
    "import albumentations as A\n",
    "from albumentations.pytorch import ToTensorV2\n",
    "from sklearn.model_selection import StratifiedKFold\n",
    "import pickle\n",
    "\n",
    "from meta_learning_tools import MetaLearn\n",
    "\n",
    "device = torch.device(\"cuda:0\" if torch.cuda.is_available() else \"cpu\")\n"
   ]
  },
  {
   "cell_type": "code",
   "execution_count": 2,
   "id": "4b64ed75",
   "metadata": {},
   "outputs": [],
   "source": [
    "def model_prototype():\n",
    "    net = Net()\n",
    "    nn_model = NeuralNet(net)\n",
    "    net = nn_model.get_model()\n",
    "    return net"
   ]
  },
  {
   "cell_type": "code",
   "execution_count": 3,
   "id": "3d4947cf",
   "metadata": {},
   "outputs": [],
   "source": [
    "with open('saved_cifar_model_weights_dictionary_with_tl.pkl', 'rb') as fp:\n",
    "    model_weight_dict = pickle.load(fp)"
   ]
  },
  {
   "cell_type": "code",
   "execution_count": 4,
   "id": "9cd760ff",
   "metadata": {},
   "outputs": [
    {
     "name": "stderr",
     "output_type": "stream",
     "text": [
      "100%|████████████████████████████████████████████████████████████| 5/5 [00:13<00:00,  2.74s/it]\n"
     ]
    }
   ],
   "source": [
    "model_list = []\n",
    "for key in tqdm(model_weight_dict.keys()):\n",
    "    model_weight = model_weight_dict[key]\n",
    "    model = model_prototype()\n",
    "    model.load_state_dict(model_weight)\n",
    "    model.cpu()\n",
    "    model.eval()\n",
    "    model_list.append(model)"
   ]
  },
  {
   "cell_type": "code",
   "execution_count": 13,
   "id": "9ae97d01",
   "metadata": {},
   "outputs": [
    {
     "name": "stdout",
     "output_type": "stream",
     "text": [
      "train_df initial shape:  (50000, 5)\n",
      "val_df intial shape:  (10000, 5)\n",
      "train_df shape:  (10000, 5)\n",
      "val_df shape:  (7500, 5)\n"
     ]
    }
   ],
   "source": [
    "train_df = pd.read_csv('data\\\\train.csv')\n",
    "val_df = pd.read_csv('data\\\\test.csv')\n",
    "\n",
    "\n",
    "\n",
    "print('train_df initial shape: ',train_df.shape)\n",
    "print('val_df intial shape: ', val_df.shape)\n",
    "\n",
    "train_df = train_df[0:10000]\n",
    "val_df = val_df[0:7500]\n",
    "\n",
    "\n",
    "print('train_df shape: ',train_df.shape)\n",
    "print('val_df shape: ', val_df.shape)"
   ]
  },
  {
   "cell_type": "code",
   "execution_count": null,
   "id": "67a5dd49",
   "metadata": {},
   "outputs": [
    {
     "name": "stdout",
     "output_type": "stream",
     "text": [
      "Generate Dictionary of Metalearning Dataframes\n"
     ]
    },
    {
     "name": "stderr",
     "output_type": "stream",
     "text": [
      "  0%|                                                                | 0/10000 [00:00<?, ?it/s]E:\\anaconda3\\envs\\pytorch\\lib\\site-packages\\pandas\\core\\indexing.py:1637: SettingWithCopyWarning: \n",
      "A value is trying to be set on a copy of a slice from a DataFrame\n",
      "\n",
      "See the caveats in the documentation: https://pandas.pydata.org/pandas-docs/stable/user_guide/indexing.html#returning-a-view-versus-a-copy\n",
      "  self._setitem_single_block(indexer, value, name)\n",
      " 37%|███████████████████▍                                 | 3675/10000 [11:52<19:55,  5.29it/s]"
     ]
    }
   ],
   "source": [
    "meta_learn = MetaLearn(model_list)\n",
    "tta_transforms = [\n",
    "    A.augmentations.transforms.ChannelShuffle(p=0.5),\n",
    "    A.HorizontalFlip(p=0.5), \n",
    "]\n",
    "\n",
    "print('Generate Dictionary of Metalearning Dataframes')\n",
    "train_tta_dict= meta_learn.generate_tta_dict_for_folds(train_df , tta_transforms, device)\n",
    "val_tta_dict= meta_learn.generate_tta_dict_for_folds(val_df , tta_transforms, device)"
   ]
  },
  {
   "cell_type": "code",
   "execution_count": null,
   "id": "691c4597",
   "metadata": {},
   "outputs": [],
   "source": [
    "with open('train_tta_dict.pkl', 'wb') as fp:\n",
    "    pickle.dump(train_tta_dict, fp)\n",
    "with open('val_tta_dict.pkl', 'wb') as fp:\n",
    "    pickle.dump(val_tta_dict, fp)"
   ]
  },
  {
   "cell_type": "code",
   "execution_count": null,
   "id": "b6847dab",
   "metadata": {},
   "outputs": [],
   "source": [
    "print(val_tta_dict.keys())#, .keys())"
   ]
  },
  {
   "cell_type": "code",
   "execution_count": null,
   "id": "e9017943",
   "metadata": {},
   "outputs": [],
   "source": [
    "from datasets import CV2ImageDataset, dataset_loader\n",
    "from run_phase import run_phase\n",
    "batch_size = 64\n",
    "aug = A.Compose([ \n",
    "    A.Normalize(),            \n",
    "    ToTensorV2()])\n",
    "val_ds = CV2ImageDataset(val_df, transform=aug, device = device)\n",
    "val_ds_l = dataset_loader(val_ds, batch_size = batch_size)\n",
    "valloader = val_ds_l.get_dataloader()\n",
    "# Just Sanity Check\n",
    "for i, model in enumerate(model_list):\n",
    "    print('model : ', i)\n",
    "    val_phase = run_phase(valloader, model.to(device),'Validation', device, loss = torch.nn.CrossEntropyLoss( ))\n",
    "    val_accuracy_meter, val_loss_meter =  val_phase.run()\n",
    "    model.cpu()\n",
    "    model.eval()\n",
    "    "
   ]
  },
  {
   "cell_type": "code",
   "execution_count": null,
   "id": "4670d7b6",
   "metadata": {},
   "outputs": [],
   "source": [
    "train_tta_df=meta_learn.create_meta_learn_labels_on_dict(train_tta_dict)\n",
    "val_tta_df=meta_learn.create_meta_learn_labels_on_dict(val_tta_dict)\n",
    "print( val_tta_df.shape,train_tta_df.shape)"
   ]
  },
  {
   "cell_type": "code",
   "execution_count": null,
   "id": "9ce7b118",
   "metadata": {},
   "outputs": [],
   "source": [
    "val_tta_df.head()"
   ]
  },
  {
   "cell_type": "code",
   "execution_count": null,
   "id": "7e34dc5a",
   "metadata": {},
   "outputs": [],
   "source": [
    "from sklearn.tree import DecisionTreeClassifier\n",
    "from sklearn.ensemble import RandomForestClassifier, AdaBoostClassifier, GradientBoostingClassifier\n",
    "\n",
    "val_acc, val_log_loss = meta_learn.do_meta_learning_on_tta_dicts(RandomForestClassifier(), train_tta_df, val_tta_df, 'custom')\n",
    "\n",
    "print(val_acc, val_log_loss)"
   ]
  },
  {
   "cell_type": "code",
   "execution_count": null,
   "id": "0d471abf",
   "metadata": {},
   "outputs": [],
   "source": []
  },
  {
   "cell_type": "code",
   "execution_count": null,
   "id": "67c6c9ed",
   "metadata": {},
   "outputs": [],
   "source": []
  }
 ],
 "metadata": {
  "kernelspec": {
   "display_name": "Python 3 (ipykernel)",
   "language": "python",
   "name": "python3"
  },
  "language_info": {
   "codemirror_mode": {
    "name": "ipython",
    "version": 3
   },
   "file_extension": ".py",
   "mimetype": "text/x-python",
   "name": "python",
   "nbconvert_exporter": "python",
   "pygments_lexer": "ipython3",
   "version": "3.9.12"
  }
 },
 "nbformat": 4,
 "nbformat_minor": 5
}
