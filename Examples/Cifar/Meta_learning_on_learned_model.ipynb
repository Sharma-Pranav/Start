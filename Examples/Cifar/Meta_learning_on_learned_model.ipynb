{
 "cells": [
  {
   "cell_type": "code",
   "execution_count": 1,
   "id": "5f78855b",
   "metadata": {},
   "outputs": [],
   "source": [
    "import numpy as np\n",
    "import torch\n",
    "import torch.optim as optim\n",
    "import pickle\n",
    "import pandas as pd\n",
    "import sys\n",
    "import copy\n",
    "\n",
    "sys.path.append(\"..\\\\..\\\\src\")\n",
    "\n",
    "from datasets import CV2ImageDataset, dataset_loader\n",
    "from tf_model import Net\n",
    "from tqdm import tqdm\n",
    "from model_class import NeuralNet\n",
    "from run_phase import run_phase\n",
    "import albumentations as A\n",
    "from albumentations.pytorch import ToTensorV2\n",
    "from sklearn.model_selection import StratifiedKFold\n",
    "import pickle\n",
    "from meta_learning_tools import MetaLearn\n",
    "device = torch.device(\"cuda:0\" if torch.cuda.is_available() else \"cpu\")"
   ]
  },
  {
   "cell_type": "code",
   "execution_count": 2,
   "id": "4b64ed75",
   "metadata": {},
   "outputs": [],
   "source": [
    "def model_prototype():\n",
    "    '''\n",
    "    Creates a Neural Network \n",
    "    Returns:\n",
    "        net:  Neural Network\n",
    "    '''\n",
    "    net = Net()\n",
    "    nn_model = NeuralNet(net)\n",
    "    net = nn_model.get_model()\n",
    "    return net"
   ]
  },
  {
   "cell_type": "code",
   "execution_count": 3,
   "id": "3d4947cf",
   "metadata": {},
   "outputs": [],
   "source": [
    "with open('saved_cifar_model_weights_dictionary_with_tl.pkl', 'rb') as fp:\n",
    "    model_weight_dict = pickle.load(fp)"
   ]
  },
  {
   "cell_type": "code",
   "execution_count": 4,
   "id": "9cd760ff",
   "metadata": {},
   "outputs": [
    {
     "name": "stderr",
     "output_type": "stream",
     "text": [
      "100%|████████████████████████████████████████████████████████████| 5/5 [00:13<00:00,  2.74s/it]\n"
     ]
    }
   ],
   "source": [
    "model_list = []\n",
    "for key in tqdm(model_weight_dict.keys()):\n",
    "    model_weight = model_weight_dict[key]\n",
    "    model = model_prototype()\n",
    "    model.load_state_dict(model_weight)\n",
    "    model.cpu()\n",
    "    model.eval()\n",
    "    model_list.append(model)"
   ]
  },
  {
   "cell_type": "code",
   "execution_count": 13,
   "id": "9ae97d01",
   "metadata": {},
   "outputs": [
    {
     "name": "stdout",
     "output_type": "stream",
     "text": [
      "train_df initial shape:  (50000, 5)\n",
      "val_df intial shape:  (10000, 5)\n",
      "train_df shape:  (10000, 5)\n",
      "val_df shape:  (7500, 5)\n"
     ]
    }
   ],
   "source": [
    "train_df = pd.read_csv('data\\\\train.csv')\n",
    "val_df = pd.read_csv('data\\\\test.csv')\n",
    "\n",
    "\n",
    "\n",
    "print('train_df initial shape: ',train_df.shape)\n",
    "print('val_df intial shape: ', val_df.shape)\n",
    "\n",
    "train_df = train_df[0:10000]\n",
    "val_df = val_df[0:7500]\n",
    "\n",
    "\n",
    "print('train_df shape: ',train_df.shape)\n",
    "print('val_df shape: ', val_df.shape)"
   ]
  },
  {
   "cell_type": "code",
   "execution_count": 14,
   "id": "67a5dd49",
   "metadata": {},
   "outputs": [
    {
     "name": "stdout",
     "output_type": "stream",
     "text": [
      "Generate Dictionary of Metalearning Dataframes\n"
     ]
    },
    {
     "name": "stderr",
     "output_type": "stream",
     "text": [
      "  0%|                                                                | 0/10000 [00:00<?, ?it/s]E:\\anaconda3\\envs\\pytorch\\lib\\site-packages\\pandas\\core\\indexing.py:1637: SettingWithCopyWarning: \n",
      "A value is trying to be set on a copy of a slice from a DataFrame\n",
      "\n",
      "See the caveats in the documentation: https://pandas.pydata.org/pandas-docs/stable/user_guide/indexing.html#returning-a-view-versus-a-copy\n",
      "  self._setitem_single_block(indexer, value, name)\n",
      "100%|████████████████████████████████████████████████████| 10000/10000 [33:47<00:00,  4.93it/s]\n",
      "100%|████████████████████████████████████████████████████| 10000/10000 [32:44<00:00,  5.09it/s]\n",
      "100%|████████████████████████████████████████████████████| 10000/10000 [35:38<00:00,  4.68it/s]\n",
      "100%|████████████████████████████████████████████████████| 10000/10000 [31:30<00:00,  5.29it/s]\n",
      "100%|████████████████████████████████████████████████████| 10000/10000 [31:58<00:00,  5.21it/s]\n",
      "100%|██████████████████████████████████████████████████████| 7500/7500 [25:20<00:00,  4.93it/s]\n",
      "100%|██████████████████████████████████████████████████████| 7500/7500 [24:44<00:00,  5.05it/s]\n",
      "100%|██████████████████████████████████████████████████████| 7500/7500 [24:05<00:00,  5.19it/s]\n",
      "100%|██████████████████████████████████████████████████████| 7500/7500 [24:16<00:00,  5.15it/s]\n",
      "100%|██████████████████████████████████████████████████████| 7500/7500 [24:16<00:00,  5.15it/s]\n"
     ]
    }
   ],
   "source": [
    "meta_learn = MetaLearn(model_list)\n",
    "tta_transforms = [\n",
    "    A.augmentations.transforms.ChannelShuffle(p=0.5),\n",
    "    A.HorizontalFlip(p=0.5), \n",
    "]\n",
    "\n",
    "print('Generate Dictionary of Metalearning Dataframes')\n",
    "train_tta_dict= meta_learn.generate_tta_dict_for_folds(train_df , tta_transforms, device)\n",
    "val_tta_dict= meta_learn.generate_tta_dict_for_folds(val_df , tta_transforms, device)"
   ]
  },
  {
   "cell_type": "code",
   "execution_count": 15,
   "id": "691c4597",
   "metadata": {},
   "outputs": [],
   "source": [
    "with open('train_tta_dict.pkl', 'wb') as fp:\n",
    "    pickle.dump(train_tta_dict, fp)\n",
    "with open('val_tta_dict.pkl', 'wb') as fp:\n",
    "    pickle.dump(val_tta_dict, fp)"
   ]
  },
  {
   "cell_type": "code",
   "execution_count": 16,
   "id": "b6847dab",
   "metadata": {},
   "outputs": [
    {
     "name": "stdout",
     "output_type": "stream",
     "text": [
      "dict_keys([0, 1, 2, 3, 4])\n"
     ]
    }
   ],
   "source": [
    "print(val_tta_dict.keys())"
   ]
  },
  {
   "cell_type": "code",
   "execution_count": 17,
   "id": "e9017943",
   "metadata": {},
   "outputs": [
    {
     "name": "stdout",
     "output_type": "stream",
     "text": [
      "model :  0\n"
     ]
    },
    {
     "name": "stderr",
     "output_type": "stream",
     "text": [
      "Validation: 100%|████████████████████████████████████████████| 118/118 [00:15<00:00,  7.40it/s]\n"
     ]
    },
    {
     "name": "stdout",
     "output_type": "stream",
     "text": [
      "Validation Accuracy for epoch : 0.8333333333333334\n",
      "Validation Loss for epoch : 0.007860651195049286\n",
      "model :  1\n"
     ]
    },
    {
     "name": "stderr",
     "output_type": "stream",
     "text": [
      "Validation: 100%|████████████████████████████████████████████| 118/118 [00:15<00:00,  7.56it/s]\n"
     ]
    },
    {
     "name": "stdout",
     "output_type": "stream",
     "text": [
      "Validation Accuracy for epoch : 0.8370666666666666\n",
      "Validation Loss for epoch : 0.0075832400500774385\n",
      "model :  2\n"
     ]
    },
    {
     "name": "stderr",
     "output_type": "stream",
     "text": [
      "Validation: 100%|████████████████████████████████████████████| 118/118 [00:15<00:00,  7.45it/s]\n"
     ]
    },
    {
     "name": "stdout",
     "output_type": "stream",
     "text": [
      "Validation Accuracy for epoch : 0.8381333333333333\n",
      "Validation Loss for epoch : 0.007580565561850865\n",
      "model :  3\n"
     ]
    },
    {
     "name": "stderr",
     "output_type": "stream",
     "text": [
      "Validation: 100%|████████████████████████████████████████████| 118/118 [00:15<00:00,  7.43it/s]\n"
     ]
    },
    {
     "name": "stdout",
     "output_type": "stream",
     "text": [
      "Validation Accuracy for epoch : 0.8410666666666666\n",
      "Validation Loss for epoch : 0.007529564102490743\n",
      "model :  4\n"
     ]
    },
    {
     "name": "stderr",
     "output_type": "stream",
     "text": [
      "Validation: 100%|████████████████████████████████████████████| 118/118 [00:15<00:00,  7.48it/s]\n"
     ]
    },
    {
     "name": "stdout",
     "output_type": "stream",
     "text": [
      "Validation Accuracy for epoch : 0.8408\n",
      "Validation Loss for epoch : 0.0075529712657133735\n"
     ]
    }
   ],
   "source": [
    "from datasets import CV2ImageDataset, dataset_loader\n",
    "from run_phase import run_phase\n",
    "batch_size = 64\n",
    "aug = A.Compose([ \n",
    "    A.Normalize(),            \n",
    "    ToTensorV2()])\n",
    "val_ds = CV2ImageDataset(val_df, transform=aug, device = device)\n",
    "val_ds_l = dataset_loader(val_ds, batch_size = batch_size)\n",
    "valloader = val_ds_l.get_dataloader()\n",
    "#Sanity Check\n",
    "for i, model in enumerate(model_list):\n",
    "    print('model : ', i)\n",
    "    val_phase = run_phase(valloader, model.to(device),'Validation', device, loss = torch.nn.CrossEntropyLoss( ))\n",
    "    val_accuracy_meter, val_loss_meter =  val_phase.run()\n",
    "    model.cpu()\n",
    "    model.eval()\n",
    "    "
   ]
  },
  {
   "cell_type": "code",
   "execution_count": 18,
   "id": "4670d7b6",
   "metadata": {},
   "outputs": [
    {
     "name": "stderr",
     "output_type": "stream",
     "text": [
      "5it [00:00, 624.91it/s]\n",
      "5it [00:00, 992.55it/s]"
     ]
    },
    {
     "name": "stdout",
     "output_type": "stream",
     "text": [
      "(7500, 32) (10000, 32)\n"
     ]
    },
    {
     "name": "stderr",
     "output_type": "stream",
     "text": [
      "\n"
     ]
    }
   ],
   "source": [
    "train_tta_df=meta_learn.create_meta_learn_labels_on_dict(train_tta_dict)\n",
    "val_tta_df=meta_learn.create_meta_learn_labels_on_dict(val_tta_dict)\n",
    "print( val_tta_df.shape,train_tta_df.shape)"
   ]
  },
  {
   "cell_type": "code",
   "execution_count": 19,
   "id": "9ce7b118",
   "metadata": {},
   "outputs": [
    {
     "data": {
      "text/html": [
       "<div>\n",
       "<style scoped>\n",
       "    .dataframe tbody tr th:only-of-type {\n",
       "        vertical-align: middle;\n",
       "    }\n",
       "\n",
       "    .dataframe tbody tr th {\n",
       "        vertical-align: top;\n",
       "    }\n",
       "\n",
       "    .dataframe thead th {\n",
       "        text-align: right;\n",
       "    }\n",
       "</style>\n",
       "<table border=\"1\" class=\"dataframe\">\n",
       "  <thead>\n",
       "    <tr style=\"text-align: right;\">\n",
       "      <th></th>\n",
       "      <th>Unnamed: 0</th>\n",
       "      <th>filenames</th>\n",
       "      <th>label_names</th>\n",
       "      <th>path</th>\n",
       "      <th>label</th>\n",
       "      <th>tta_0_custom_0</th>\n",
       "      <th>0_custom_0_aug_0</th>\n",
       "      <th>0_custom_0_aug_1</th>\n",
       "      <th>Unnamed: 0</th>\n",
       "      <th>filenames</th>\n",
       "      <th>...</th>\n",
       "      <th>label_names</th>\n",
       "      <th>tta_3_custom_3</th>\n",
       "      <th>3_custom_3_aug_0</th>\n",
       "      <th>3_custom_3_aug_1</th>\n",
       "      <th>Unnamed: 0</th>\n",
       "      <th>filenames</th>\n",
       "      <th>label_names</th>\n",
       "      <th>tta_4_custom_4</th>\n",
       "      <th>4_custom_4_aug_0</th>\n",
       "      <th>4_custom_4_aug_1</th>\n",
       "    </tr>\n",
       "  </thead>\n",
       "  <tbody>\n",
       "    <tr>\n",
       "      <th>0</th>\n",
       "      <td>0</td>\n",
       "      <td>domestic_cat_s_000907.png</td>\n",
       "      <td>cat</td>\n",
       "      <td>E:\\Git\\Writing Library\\Classification\\Examples...</td>\n",
       "      <td>3</td>\n",
       "      <td>3</td>\n",
       "      <td>3</td>\n",
       "      <td>3</td>\n",
       "      <td>0</td>\n",
       "      <td>domestic_cat_s_000907.png</td>\n",
       "      <td>...</td>\n",
       "      <td>cat</td>\n",
       "      <td>3</td>\n",
       "      <td>3</td>\n",
       "      <td>3</td>\n",
       "      <td>0</td>\n",
       "      <td>domestic_cat_s_000907.png</td>\n",
       "      <td>cat</td>\n",
       "      <td>3</td>\n",
       "      <td>3</td>\n",
       "      <td>3</td>\n",
       "    </tr>\n",
       "    <tr>\n",
       "      <th>1</th>\n",
       "      <td>1</td>\n",
       "      <td>hydrofoil_s_000078.png</td>\n",
       "      <td>ship</td>\n",
       "      <td>E:\\Git\\Writing Library\\Classification\\Examples...</td>\n",
       "      <td>8</td>\n",
       "      <td>8</td>\n",
       "      <td>8</td>\n",
       "      <td>8</td>\n",
       "      <td>1</td>\n",
       "      <td>hydrofoil_s_000078.png</td>\n",
       "      <td>...</td>\n",
       "      <td>ship</td>\n",
       "      <td>8</td>\n",
       "      <td>8</td>\n",
       "      <td>8</td>\n",
       "      <td>1</td>\n",
       "      <td>hydrofoil_s_000078.png</td>\n",
       "      <td>ship</td>\n",
       "      <td>8</td>\n",
       "      <td>8</td>\n",
       "      <td>8</td>\n",
       "    </tr>\n",
       "    <tr>\n",
       "      <th>2</th>\n",
       "      <td>2</td>\n",
       "      <td>sea_boat_s_001456.png</td>\n",
       "      <td>ship</td>\n",
       "      <td>E:\\Git\\Writing Library\\Classification\\Examples...</td>\n",
       "      <td>8</td>\n",
       "      <td>8</td>\n",
       "      <td>8</td>\n",
       "      <td>8</td>\n",
       "      <td>2</td>\n",
       "      <td>sea_boat_s_001456.png</td>\n",
       "      <td>...</td>\n",
       "      <td>ship</td>\n",
       "      <td>8</td>\n",
       "      <td>8</td>\n",
       "      <td>8</td>\n",
       "      <td>2</td>\n",
       "      <td>sea_boat_s_001456.png</td>\n",
       "      <td>ship</td>\n",
       "      <td>8</td>\n",
       "      <td>8</td>\n",
       "      <td>8</td>\n",
       "    </tr>\n",
       "    <tr>\n",
       "      <th>3</th>\n",
       "      <td>3</td>\n",
       "      <td>jetliner_s_001705.png</td>\n",
       "      <td>airplane</td>\n",
       "      <td>E:\\Git\\Writing Library\\Classification\\Examples...</td>\n",
       "      <td>0</td>\n",
       "      <td>0</td>\n",
       "      <td>0</td>\n",
       "      <td>0</td>\n",
       "      <td>3</td>\n",
       "      <td>jetliner_s_001705.png</td>\n",
       "      <td>...</td>\n",
       "      <td>airplane</td>\n",
       "      <td>0</td>\n",
       "      <td>0</td>\n",
       "      <td>0</td>\n",
       "      <td>3</td>\n",
       "      <td>jetliner_s_001705.png</td>\n",
       "      <td>airplane</td>\n",
       "      <td>0</td>\n",
       "      <td>0</td>\n",
       "      <td>0</td>\n",
       "    </tr>\n",
       "    <tr>\n",
       "      <th>4</th>\n",
       "      <td>4</td>\n",
       "      <td>green_frog_s_001658.png</td>\n",
       "      <td>frog</td>\n",
       "      <td>E:\\Git\\Writing Library\\Classification\\Examples...</td>\n",
       "      <td>6</td>\n",
       "      <td>6</td>\n",
       "      <td>8</td>\n",
       "      <td>6</td>\n",
       "      <td>4</td>\n",
       "      <td>green_frog_s_001658.png</td>\n",
       "      <td>...</td>\n",
       "      <td>frog</td>\n",
       "      <td>6</td>\n",
       "      <td>8</td>\n",
       "      <td>6</td>\n",
       "      <td>4</td>\n",
       "      <td>green_frog_s_001658.png</td>\n",
       "      <td>frog</td>\n",
       "      <td>6</td>\n",
       "      <td>8</td>\n",
       "      <td>6</td>\n",
       "    </tr>\n",
       "  </tbody>\n",
       "</table>\n",
       "<p>5 rows × 32 columns</p>\n",
       "</div>"
      ],
      "text/plain": [
       "   Unnamed: 0                  filenames label_names  \\\n",
       "0           0  domestic_cat_s_000907.png         cat   \n",
       "1           1     hydrofoil_s_000078.png        ship   \n",
       "2           2      sea_boat_s_001456.png        ship   \n",
       "3           3      jetliner_s_001705.png    airplane   \n",
       "4           4    green_frog_s_001658.png        frog   \n",
       "\n",
       "                                                path  label tta_0_custom_0  \\\n",
       "0  E:\\Git\\Writing Library\\Classification\\Examples...      3              3   \n",
       "1  E:\\Git\\Writing Library\\Classification\\Examples...      8              8   \n",
       "2  E:\\Git\\Writing Library\\Classification\\Examples...      8              8   \n",
       "3  E:\\Git\\Writing Library\\Classification\\Examples...      0              0   \n",
       "4  E:\\Git\\Writing Library\\Classification\\Examples...      6              6   \n",
       "\n",
       "  0_custom_0_aug_0 0_custom_0_aug_1  Unnamed: 0                  filenames  \\\n",
       "0                3                3           0  domestic_cat_s_000907.png   \n",
       "1                8                8           1     hydrofoil_s_000078.png   \n",
       "2                8                8           2      sea_boat_s_001456.png   \n",
       "3                0                0           3      jetliner_s_001705.png   \n",
       "4                8                6           4    green_frog_s_001658.png   \n",
       "\n",
       "   ... label_names tta_3_custom_3 3_custom_3_aug_0 3_custom_3_aug_1  \\\n",
       "0  ...         cat              3                3                3   \n",
       "1  ...        ship              8                8                8   \n",
       "2  ...        ship              8                8                8   \n",
       "3  ...    airplane              0                0                0   \n",
       "4  ...        frog              6                8                6   \n",
       "\n",
       "   Unnamed: 0                  filenames label_names tta_4_custom_4  \\\n",
       "0           0  domestic_cat_s_000907.png         cat              3   \n",
       "1           1     hydrofoil_s_000078.png        ship              8   \n",
       "2           2      sea_boat_s_001456.png        ship              8   \n",
       "3           3      jetliner_s_001705.png    airplane              0   \n",
       "4           4    green_frog_s_001658.png        frog              6   \n",
       "\n",
       "  4_custom_4_aug_0 4_custom_4_aug_1  \n",
       "0                3                3  \n",
       "1                8                8  \n",
       "2                8                8  \n",
       "3                0                0  \n",
       "4                8                6  \n",
       "\n",
       "[5 rows x 32 columns]"
      ]
     },
     "execution_count": 19,
     "metadata": {},
     "output_type": "execute_result"
    }
   ],
   "source": [
    "val_tta_df.head()"
   ]
  },
  {
   "cell_type": "code",
   "execution_count": 24,
   "id": "7e34dc5a",
   "metadata": {},
   "outputs": [
    {
     "name": "stderr",
     "output_type": "stream",
     "text": [
      "E:\\Git\\Writing Library\\Classification\\Examples\\Cifar\\..\\..\\src\\meta_learning_tools.py:141: DataConversionWarning: A column-vector y was passed when a 1d array was expected. Please change the shape of y to (n_samples,), for example using ravel().\n",
      "  classifier.fit(train_data, train_labels)\n"
     ]
    },
    {
     "name": "stdout",
     "output_type": "stream",
     "text": [
      "RandomForestClassifier Validation Accuracy, Validation Loss:  0.8405333333333334 1.3168286186822704\n",
      "DecisionTreeClassifier Validation Accuracy, Validation Loss:  0.8405333333333334 1.5398482400342914\n"
     ]
    },
    {
     "name": "stderr",
     "output_type": "stream",
     "text": [
      "E:\\anaconda3\\envs\\pytorch\\lib\\site-packages\\sklearn\\ensemble\\_gb.py:494: DataConversionWarning: A column-vector y was passed when a 1d array was expected. Please change the shape of y to (n_samples, ), for example using ravel().\n",
      "  y = column_or_1d(y, warn=True)\n"
     ]
    },
    {
     "name": "stdout",
     "output_type": "stream",
     "text": [
      "GradientBoostingClassifier Validation Accuracy, Validation Loss:  0.8402666666666667 0.751826037518652\n"
     ]
    }
   ],
   "source": [
    "from sklearn.tree import DecisionTreeClassifier\n",
    "from sklearn.ensemble import RandomForestClassifier, AdaBoostClassifier, GradientBoostingClassifier\n",
    "\n",
    "val_acc, val_log_loss = meta_learn.do_meta_learning_on_tta_dicts(RandomForestClassifier(), train_tta_df, val_tta_df, 'custom')\n",
    "\n",
    "print('RandomForestClassifier Validation Accuracy, Validation Loss: ',val_acc, val_log_loss)\n",
    "\n",
    "val_acc, val_log_loss = meta_learn.do_meta_learning_on_tta_dicts(DecisionTreeClassifier(), train_tta_df, val_tta_df, 'custom')\n",
    "\n",
    "print('DecisionTreeClassifier Validation Accuracy, Validation Loss: ',val_acc, val_log_loss)\n",
    "\n",
    "val_acc, val_log_loss = meta_learn.do_meta_learning_on_tta_dicts(GradientBoostingClassifier(), train_tta_df, val_tta_df, 'custom')\n",
    "\n",
    "print('GradientBoostingClassifier Validation Accuracy, Validation Loss: ',val_acc, val_log_loss)"
   ]
  },
  {
   "cell_type": "code",
   "execution_count": null,
   "id": "0d471abf",
   "metadata": {},
   "outputs": [],
   "source": []
  },
  {
   "cell_type": "code",
   "execution_count": null,
   "id": "67c6c9ed",
   "metadata": {},
   "outputs": [],
   "source": []
  }
 ],
 "metadata": {
  "kernelspec": {
   "display_name": "Python 3.9.12 ('pytorch')",
   "language": "python",
   "name": "python3"
  },
  "language_info": {
   "codemirror_mode": {
    "name": "ipython",
    "version": 3
   },
   "file_extension": ".py",
   "mimetype": "text/x-python",
   "name": "python",
   "nbconvert_exporter": "python",
   "pygments_lexer": "ipython3",
   "version": "3.9.12"
  },
  "vscode": {
   "interpreter": {
    "hash": "7d9fe059ab7d23d498f40a7052f43040c1b89b97bcd1b6ba6b66c3943ea2a584"
   }
  }
 },
 "nbformat": 4,
 "nbformat_minor": 5
}
